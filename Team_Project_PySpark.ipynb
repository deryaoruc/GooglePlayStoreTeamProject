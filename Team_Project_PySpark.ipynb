{
 "cells": [
  {
   "cell_type": "code",
   "execution_count": 1,
   "id": "f81f1f1e",
   "metadata": {},
   "outputs": [],
   "source": [
    "import findspark\n",
    "findspark.init()"
   ]
  },
  {
   "cell_type": "code",
   "execution_count": 2,
   "id": "ef8cddbf",
   "metadata": {},
   "outputs": [],
   "source": [
    "import pyspark\n",
    "from pyspark.sql import SparkSession"
   ]
  },
  {
   "cell_type": "code",
   "execution_count": 3,
   "id": "4f38de90",
   "metadata": {},
   "outputs": [],
   "source": [
    "spark = SparkSession.builder.master(\"local[*]\").appName(\"TeamProject\").getOrCreate()"
   ]
  },
  {
   "cell_type": "code",
   "execution_count": 4,
   "id": "767c98ae",
   "metadata": {},
   "outputs": [
    {
     "data": {
      "text/html": [
       "\n",
       "            <div>\n",
       "                <p><b>SparkSession - in-memory</b></p>\n",
       "                \n",
       "        <div>\n",
       "            <p><b>SparkContext</b></p>\n",
       "\n",
       "            <p><a href=\"http://host.docker.internal:4040\">Spark UI</a></p>\n",
       "\n",
       "            <dl>\n",
       "              <dt>Version</dt>\n",
       "                <dd><code>v3.3.0</code></dd>\n",
       "              <dt>Master</dt>\n",
       "                <dd><code>local[*]</code></dd>\n",
       "              <dt>AppName</dt>\n",
       "                <dd><code>TeamProject</code></dd>\n",
       "            </dl>\n",
       "        </div>\n",
       "        \n",
       "            </div>\n",
       "        "
      ],
      "text/plain": [
       "<pyspark.sql.session.SparkSession at 0x2582af6e790>"
      ]
     },
     "execution_count": 4,
     "metadata": {},
     "output_type": "execute_result"
    }
   ],
   "source": [
    "spark"
   ]
  },
  {
   "cell_type": "code",
   "execution_count": 5,
   "id": "89d05a0b",
   "metadata": {},
   "outputs": [],
   "source": [
    "df = spark.read.option(\"header\",\"true\").csv(\"\\\\Users\\\\Mohammad Dayyat\\\\pyspark\\\\googleplaystore.csv\")"
   ]
  },
  {
   "cell_type": "code",
   "execution_count": 6,
   "id": "631fab71",
   "metadata": {},
   "outputs": [
    {
     "name": "stdout",
     "output_type": "stream",
     "text": [
      "root\n",
      " |-- App: string (nullable = true)\n",
      " |-- Category: string (nullable = true)\n",
      " |-- Rating: string (nullable = true)\n",
      " |-- Reviews: string (nullable = true)\n",
      " |-- Size: string (nullable = true)\n",
      " |-- Installs: string (nullable = true)\n",
      " |-- Type: string (nullable = true)\n",
      " |-- Price: string (nullable = true)\n",
      " |-- Content Rating: string (nullable = true)\n",
      " |-- Genres: string (nullable = true)\n",
      " |-- Last Updated: string (nullable = true)\n",
      " |-- Current Ver: string (nullable = true)\n",
      " |-- Android Ver: string (nullable = true)\n",
      "\n"
     ]
    }
   ],
   "source": [
    "df.printSchema()"
   ]
  },
  {
   "cell_type": "code",
   "execution_count": 7,
   "id": "2ab25fb7",
   "metadata": {},
   "outputs": [],
   "source": [
    "df=df.dropna()"
   ]
  },
  {
   "cell_type": "code",
   "execution_count": 8,
   "id": "0a652b2f",
   "metadata": {},
   "outputs": [
    {
     "data": {
      "text/plain": [
       "DataFrame[App: string, Category: string, Rating: string, Reviews: string, Size: string, Installs: string, Type: string, Price: string, Content Rating: string, Genres: string, Last Updated: string, Current Ver: string, Android Ver: string]"
      ]
     },
     "execution_count": 8,
     "metadata": {},
     "output_type": "execute_result"
    }
   ],
   "source": [
    "df.dropDuplicates()"
   ]
  },
  {
   "cell_type": "code",
   "execution_count": 9,
   "id": "7f121817",
   "metadata": {},
   "outputs": [
    {
     "data": {
      "text/plain": [
       "10839"
      ]
     },
     "execution_count": 9,
     "metadata": {},
     "output_type": "execute_result"
    }
   ],
   "source": [
    "df.count()"
   ]
  },
  {
   "cell_type": "code",
   "execution_count": 10,
   "id": "7a2ed2d0",
   "metadata": {},
   "outputs": [],
   "source": [
    "from pyspark.sql.types import StringType , IntegerType ,DoubleType\n",
    "from pyspark.sql.functions import *\n",
    "from pyspark.sql.functions import col, cast "
   ]
  },
  {
   "cell_type": "code",
   "execution_count": 11,
   "id": "3ee53f8b",
   "metadata": {},
   "outputs": [],
   "source": [
    "df = df.withColumn(\"Installs\", regexp_replace(\"Installs\", \"\\+\", \"\"))\n",
    "df = df.withColumn(\"Installs\", regexp_replace(\"Installs\", \",\", \"\"))\n",
    "df = df.withColumn(\"Installs\", col(\"Installs\").cast(\"integer\"))"
   ]
  },
  {
   "cell_type": "code",
   "execution_count": 12,
   "id": "41660a82",
   "metadata": {},
   "outputs": [],
   "source": [
    "df = df.withColumn(\"Price\", regexp_replace(col(\"Price\"), \"[^\\d.]\", \"\"))\n",
    "df = df.withColumn(\"Price\", col(\"Price\").cast(DoubleType()))\n",
    "df = df.na.fill(0, \"Price\")"
   ]
  },
  {
   "cell_type": "code",
   "execution_count": 13,
   "id": "52f13ba7",
   "metadata": {},
   "outputs": [
    {
     "name": "stdout",
     "output_type": "stream",
     "text": [
      "root\n",
      " |-- App: string (nullable = true)\n",
      " |-- Category: string (nullable = true)\n",
      " |-- Rating: string (nullable = true)\n",
      " |-- Reviews: string (nullable = true)\n",
      " |-- Size: string (nullable = true)\n",
      " |-- Installs: integer (nullable = true)\n",
      " |-- Type: string (nullable = true)\n",
      " |-- Price: double (nullable = false)\n",
      " |-- Content Rating: string (nullable = true)\n",
      " |-- Genres: string (nullable = true)\n",
      " |-- Last Updated: string (nullable = true)\n",
      " |-- Current Ver: string (nullable = true)\n",
      " |-- Android Ver: string (nullable = true)\n",
      "\n"
     ]
    }
   ],
   "source": [
    "df.printSchema()"
   ]
  },
  {
   "cell_type": "code",
   "execution_count": 14,
   "id": "3468175b",
   "metadata": {},
   "outputs": [],
   "source": [
    "from pyspark.sql.functions import when\n",
    "from pyspark.sql.functions import sum,avg,max,count"
   ]
  },
  {
   "cell_type": "code",
   "execution_count": 15,
   "id": "40c0e18d",
   "metadata": {},
   "outputs": [],
   "source": [
    "df.createOrReplaceTempView(\"gstore\")"
   ]
  },
  {
   "cell_type": "code",
   "execution_count": 16,
   "id": "c31d0bfe",
   "metadata": {},
   "outputs": [
    {
     "name": "stdout",
     "output_type": "stream",
     "text": [
      "+-------------------+--------------------+----------+\n",
      "|           Category|                 App|  Installs|\n",
      "+-------------------+--------------------+----------+\n",
      "|      COMMUNICATION|            Hangouts|1000000000|\n",
      "|      COMMUNICATION|  WhatsApp Messenger|1000000000|\n",
      "|      COMMUNICATION|Google Chrome: Fa...|1000000000|\n",
      "|BOOKS_AND_REFERENCE|   Google Play Books|1000000000|\n",
      "|      COMMUNICATION|Messenger – Text ...|1000000000|\n",
      "+-------------------+--------------------+----------+\n",
      "only showing top 5 rows\n",
      "\n"
     ]
    }
   ],
   "source": [
    "# Top 5 downloaded apps (show to which category they belong to)\n",
    "top_down = df.select([\"Category\",\"App\",\"Installs\"]).orderBy('Installs',ascending = False)\n",
    "top_down.show(5)"
   ]
  },
  {
   "cell_type": "code",
   "execution_count": 17,
   "id": "6cc71611",
   "metadata": {},
   "outputs": [
    {
     "name": "stdout",
     "output_type": "stream",
     "text": [
      "+-------------------+--------------------+----------+\n",
      "|           Category|                 App|  Installs|\n",
      "+-------------------+--------------------+----------+\n",
      "|      COMMUNICATION|               Gmail|1000000000|\n",
      "|      COMMUNICATION|Google Chrome: Fa...|1000000000|\n",
      "|BOOKS_AND_REFERENCE|   Google Play Books|1000000000|\n",
      "|      COMMUNICATION|Messenger – Text ...|1000000000|\n",
      "|      COMMUNICATION|            Hangouts|1000000000|\n",
      "+-------------------+--------------------+----------+\n",
      "\n"
     ]
    }
   ],
   "source": [
    "spark.sql(\"SELECT Category , App , Installs FROM gstore ORDER BY Installs desc limit 5\").show()"
   ]
  },
  {
   "cell_type": "code",
   "execution_count": 18,
   "id": "294fd563",
   "metadata": {},
   "outputs": [
    {
     "name": "stdout",
     "output_type": "stream",
     "text": [
      "+----------+\n",
      "|count(App)|\n",
      "+----------+\n",
      "|        58|\n",
      "+----------+\n",
      "\n"
     ]
    }
   ],
   "source": [
    "spark.sql(\"SELECT COUNT(App) FROM gstore WHERE Installs =1000000000 \").show()"
   ]
  },
  {
   "cell_type": "code",
   "execution_count": 21,
   "id": "63a71428",
   "metadata": {},
   "outputs": [
    {
     "name": "stdout",
     "output_type": "stream",
     "text": [
      "+-------------------+---------+\n",
      "|           Category|Total_app|\n",
      "+-------------------+---------+\n",
      "|             FAMILY|      191|\n",
      "|            MEDICAL|      109|\n",
      "|    PERSONALIZATION|       83|\n",
      "|               GAME|       83|\n",
      "|              TOOLS|       78|\n",
      "|       PRODUCTIVITY|       28|\n",
      "|BOOKS_AND_REFERENCE|       28|\n",
      "|      COMMUNICATION|       27|\n",
      "|             SPORTS|       24|\n",
      "|        PHOTOGRAPHY|       22|\n",
      "+-------------------+---------+\n",
      "only showing top 10 rows\n",
      "\n"
     ]
    }
   ],
   "source": [
    "# Highest paid categories\n",
    "spark.sql(\"SELECT Category,COUNT(App) as Total_app FROM gstore WHERE Price > 0  group by Category order by Total_app desc\").show(10)"
   ]
  }
 ],
 "metadata": {
  "kernelspec": {
   "display_name": "Python 3 (ipykernel)",
   "language": "python",
   "name": "python3"
  },
  "language_info": {
   "codemirror_mode": {
    "name": "ipython",
    "version": 3
   },
   "file_extension": ".py",
   "mimetype": "text/x-python",
   "name": "python",
   "nbconvert_exporter": "python",
   "pygments_lexer": "ipython3",
   "version": "3.9.12"
  }
 },
 "nbformat": 4,
 "nbformat_minor": 5
}
