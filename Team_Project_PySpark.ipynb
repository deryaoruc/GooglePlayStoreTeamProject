{
  "cells": [
    {
      "cell_type": "code",
      "source": [
        "!pip install pyspark\n",
        "import pyspark\n",
        "from pyspark.sql import SparkSession\n",
        "spark = SparkSession.builder.master(\"local[*]\").appName(\"DataManipulation\").getOrCreate()\n",
        "spark"
      ],
      "metadata": {
        "colab": {
          "base_uri": "https://localhost:8080/",
          "height": 271
        },
        "id": "2vDdaxL0DeaZ",
        "outputId": "ae4ace3f-c64e-4aa9-a42f-8835e891b25a"
      },
      "id": "2vDdaxL0DeaZ",
      "execution_count": 5,
      "outputs": [
        {
          "output_type": "stream",
          "name": "stdout",
          "text": [
            "Looking in indexes: https://pypi.org/simple, https://us-python.pkg.dev/colab-wheels/public/simple/\n",
            "Requirement already satisfied: pyspark in /usr/local/lib/python3.8/dist-packages (3.3.1)\n",
            "Requirement already satisfied: py4j==0.10.9.5 in /usr/local/lib/python3.8/dist-packages (from pyspark) (0.10.9.5)\n"
          ]
        },
        {
          "output_type": "execute_result",
          "data": {
            "text/plain": [
              "<pyspark.sql.session.SparkSession at 0x7f89c8e6d7f0>"
            ],
            "text/html": [
              "\n",
              "            <div>\n",
              "                <p><b>SparkSession - in-memory</b></p>\n",
              "                \n",
              "        <div>\n",
              "            <p><b>SparkContext</b></p>\n",
              "\n",
              "            <p><a href=\"http://59f743e00964:4040\">Spark UI</a></p>\n",
              "\n",
              "            <dl>\n",
              "              <dt>Version</dt>\n",
              "                <dd><code>v3.3.1</code></dd>\n",
              "              <dt>Master</dt>\n",
              "                <dd><code>local[*]</code></dd>\n",
              "              <dt>AppName</dt>\n",
              "                <dd><code>DataManipulation</code></dd>\n",
              "            </dl>\n",
              "        </div>\n",
              "        \n",
              "            </div>\n",
              "        "
            ]
          },
          "metadata": {},
          "execution_count": 5
        }
      ]
    },
    {
      "cell_type": "code",
      "execution_count": null,
      "id": "f81f1f1e",
      "metadata": {
        "id": "f81f1f1e"
      },
      "outputs": [],
      "source": [
        "import findspark\n",
        "findspark.init()"
      ]
    },
    {
      "cell_type": "code",
      "execution_count": null,
      "id": "ef8cddbf",
      "metadata": {
        "id": "ef8cddbf"
      },
      "outputs": [],
      "source": [
        "import pyspark\n",
        "from pyspark.sql import SparkSession"
      ]
    },
    {
      "cell_type": "code",
      "execution_count": null,
      "id": "4f38de90",
      "metadata": {
        "id": "4f38de90"
      },
      "outputs": [],
      "source": [
        "spark = SparkSession.builder.master(\"local[*]\").appName(\"TeamProject\").getOrCreate()"
      ]
    },
    {
      "cell_type": "code",
      "execution_count": null,
      "id": "767c98ae",
      "metadata": {
        "id": "767c98ae",
        "outputId": "9ed58a94-4c68-4aa7-c29d-9f9d97c0a5e3"
      },
      "outputs": [
        {
          "data": {
            "text/html": [
              "\n",
              "            <div>\n",
              "                <p><b>SparkSession - in-memory</b></p>\n",
              "                \n",
              "        <div>\n",
              "            <p><b>SparkContext</b></p>\n",
              "\n",
              "            <p><a href=\"http://host.docker.internal:4040\">Spark UI</a></p>\n",
              "\n",
              "            <dl>\n",
              "              <dt>Version</dt>\n",
              "                <dd><code>v3.3.0</code></dd>\n",
              "              <dt>Master</dt>\n",
              "                <dd><code>local[*]</code></dd>\n",
              "              <dt>AppName</dt>\n",
              "                <dd><code>TeamProject</code></dd>\n",
              "            </dl>\n",
              "        </div>\n",
              "        \n",
              "            </div>\n",
              "        "
            ],
            "text/plain": [
              "<pyspark.sql.session.SparkSession at 0x2582af6e790>"
            ]
          },
          "execution_count": 4,
          "metadata": {},
          "output_type": "execute_result"
        }
      ],
      "source": [
        "spark"
      ]
    },
    {
      "cell_type": "code",
      "execution_count": 6,
      "id": "89d05a0b",
      "metadata": {
        "id": "89d05a0b"
      },
      "outputs": [],
      "source": [
        "df = spark.read.option(\"header\",\"true\").csv(\"googleplaystore.csv\")"
      ]
    },
    {
      "cell_type": "code",
      "execution_count": 7,
      "id": "631fab71",
      "metadata": {
        "colab": {
          "base_uri": "https://localhost:8080/"
        },
        "id": "631fab71",
        "outputId": "88890bb1-9448-4c46-d6bc-1746bded7a75"
      },
      "outputs": [
        {
          "output_type": "stream",
          "name": "stdout",
          "text": [
            "root\n",
            " |-- App: string (nullable = true)\n",
            " |-- Category: string (nullable = true)\n",
            " |-- Rating: string (nullable = true)\n",
            " |-- Reviews: string (nullable = true)\n",
            " |-- Size: string (nullable = true)\n",
            " |-- Installs: string (nullable = true)\n",
            " |-- Type: string (nullable = true)\n",
            " |-- Price: string (nullable = true)\n",
            " |-- Content Rating: string (nullable = true)\n",
            " |-- Genres: string (nullable = true)\n",
            " |-- Last Updated: string (nullable = true)\n",
            " |-- Current Ver: string (nullable = true)\n",
            " |-- Android Ver: string (nullable = true)\n",
            "\n"
          ]
        }
      ],
      "source": [
        "df.printSchema()"
      ]
    },
    {
      "cell_type": "code",
      "execution_count": 8,
      "id": "2ab25fb7",
      "metadata": {
        "id": "2ab25fb7"
      },
      "outputs": [],
      "source": [
        "df=df.dropna()"
      ]
    },
    {
      "cell_type": "code",
      "execution_count": 9,
      "id": "0a652b2f",
      "metadata": {
        "colab": {
          "base_uri": "https://localhost:8080/"
        },
        "id": "0a652b2f",
        "outputId": "9092480e-5411-4690-9f9d-b68a810c2846"
      },
      "outputs": [
        {
          "output_type": "execute_result",
          "data": {
            "text/plain": [
              "DataFrame[App: string, Category: string, Rating: string, Reviews: string, Size: string, Installs: string, Type: string, Price: string, Content Rating: string, Genres: string, Last Updated: string, Current Ver: string, Android Ver: string]"
            ]
          },
          "metadata": {},
          "execution_count": 9
        }
      ],
      "source": [
        "df.dropDuplicates()"
      ]
    },
    {
      "cell_type": "code",
      "execution_count": 10,
      "id": "7f121817",
      "metadata": {
        "colab": {
          "base_uri": "https://localhost:8080/"
        },
        "id": "7f121817",
        "outputId": "c3cb1d61-68a8-44cb-a91c-2d045fc160cc"
      },
      "outputs": [
        {
          "output_type": "execute_result",
          "data": {
            "text/plain": [
              "10839"
            ]
          },
          "metadata": {},
          "execution_count": 10
        }
      ],
      "source": [
        "df.count()"
      ]
    },
    {
      "cell_type": "code",
      "execution_count": 11,
      "id": "7a2ed2d0",
      "metadata": {
        "id": "7a2ed2d0"
      },
      "outputs": [],
      "source": [
        "from pyspark.sql.types import StringType , IntegerType ,DoubleType\n",
        "from pyspark.sql.functions import *\n",
        "from pyspark.sql.functions import col, cast "
      ]
    },
    {
      "cell_type": "code",
      "execution_count": 12,
      "id": "3ee53f8b",
      "metadata": {
        "id": "3ee53f8b"
      },
      "outputs": [],
      "source": [
        "df = df.withColumn(\"Installs\", regexp_replace(\"Installs\", \"\\+\", \"\"))\n",
        "df = df.withColumn(\"Installs\", regexp_replace(\"Installs\", \",\", \"\"))\n",
        "df = df.withColumn(\"Installs\", col(\"Installs\").cast(\"integer\"))"
      ]
    },
    {
      "cell_type": "code",
      "execution_count": 13,
      "id": "41660a82",
      "metadata": {
        "id": "41660a82"
      },
      "outputs": [],
      "source": [
        "df = df.withColumn(\"Price\", regexp_replace(col(\"Price\"), \"[^\\d.]\", \"\"))\n",
        "df = df.withColumn(\"Price\", col(\"Price\").cast(DoubleType()))\n",
        "df = df.na.fill(0, \"Price\")"
      ]
    },
    {
      "cell_type": "code",
      "execution_count": 14,
      "id": "52f13ba7",
      "metadata": {
        "colab": {
          "base_uri": "https://localhost:8080/"
        },
        "id": "52f13ba7",
        "outputId": "54e1eade-278b-4c36-d097-4bbd30fbcb12"
      },
      "outputs": [
        {
          "output_type": "stream",
          "name": "stdout",
          "text": [
            "root\n",
            " |-- App: string (nullable = true)\n",
            " |-- Category: string (nullable = true)\n",
            " |-- Rating: string (nullable = true)\n",
            " |-- Reviews: string (nullable = true)\n",
            " |-- Size: string (nullable = true)\n",
            " |-- Installs: integer (nullable = true)\n",
            " |-- Type: string (nullable = true)\n",
            " |-- Price: double (nullable = false)\n",
            " |-- Content Rating: string (nullable = true)\n",
            " |-- Genres: string (nullable = true)\n",
            " |-- Last Updated: string (nullable = true)\n",
            " |-- Current Ver: string (nullable = true)\n",
            " |-- Android Ver: string (nullable = true)\n",
            "\n"
          ]
        }
      ],
      "source": [
        "df.printSchema()"
      ]
    },
    {
      "cell_type": "code",
      "execution_count": 15,
      "id": "3468175b",
      "metadata": {
        "id": "3468175b"
      },
      "outputs": [],
      "source": [
        "from pyspark.sql.functions import when\n",
        "from pyspark.sql.functions import sum,avg,max,count"
      ]
    },
    {
      "cell_type": "code",
      "execution_count": 16,
      "id": "40c0e18d",
      "metadata": {
        "id": "40c0e18d"
      },
      "outputs": [],
      "source": [
        "df.createOrReplaceTempView(\"gstore\")"
      ]
    },
    {
      "cell_type": "code",
      "execution_count": 17,
      "id": "c31d0bfe",
      "metadata": {
        "colab": {
          "base_uri": "https://localhost:8080/"
        },
        "id": "c31d0bfe",
        "outputId": "95cc4e30-bdf0-4c27-bc43-7cd0d6253d24"
      },
      "outputs": [
        {
          "output_type": "stream",
          "name": "stdout",
          "text": [
            "+-------------------+--------------------+----------+\n",
            "|           Category|                 App|  Installs|\n",
            "+-------------------+--------------------+----------+\n",
            "|      COMMUNICATION|            Hangouts|1000000000|\n",
            "|      COMMUNICATION|  WhatsApp Messenger|1000000000|\n",
            "|      COMMUNICATION|Google Chrome: Fa...|1000000000|\n",
            "|BOOKS_AND_REFERENCE|   Google Play Books|1000000000|\n",
            "|      COMMUNICATION|Messenger – Text ...|1000000000|\n",
            "+-------------------+--------------------+----------+\n",
            "only showing top 5 rows\n",
            "\n"
          ]
        }
      ],
      "source": [
        "# Top 5 downloaded apps with spark (show to which category they belong to)\n",
        "top_down = df.select([\"Category\",\"App\",\"Installs\"]).orderBy('Installs',ascending = False)\n",
        "top_down.show(5)"
      ]
    },
    {
      "cell_type": "code",
      "execution_count": 18,
      "id": "6cc71611",
      "metadata": {
        "colab": {
          "base_uri": "https://localhost:8080/"
        },
        "id": "6cc71611",
        "outputId": "a250f805-0455-4463-d7c8-fd2767c12cbe"
      },
      "outputs": [
        {
          "output_type": "stream",
          "name": "stdout",
          "text": [
            "+-------------------+--------------------+----------+\n",
            "|           Category|                 App|  Installs|\n",
            "+-------------------+--------------------+----------+\n",
            "|      COMMUNICATION|               Gmail|1000000000|\n",
            "|      COMMUNICATION|Google Chrome: Fa...|1000000000|\n",
            "|BOOKS_AND_REFERENCE|   Google Play Books|1000000000|\n",
            "|      COMMUNICATION|Messenger – Text ...|1000000000|\n",
            "|      COMMUNICATION|            Hangouts|1000000000|\n",
            "+-------------------+--------------------+----------+\n",
            "\n"
          ]
        }
      ],
      "source": [
        "# Top 5 downloaded apps with spark (show to which category they belong to) (sqlspark)\n",
        "spark.sql(\"SELECT Category , App , Installs FROM gstore ORDER BY Installs desc limit 5\").show()"
      ]
    },
    {
      "cell_type": "code",
      "execution_count": 19,
      "id": "294fd563",
      "metadata": {
        "colab": {
          "base_uri": "https://localhost:8080/"
        },
        "id": "294fd563",
        "outputId": "fc63d259-ebcc-40b9-9165-4e838d14027f"
      },
      "outputs": [
        {
          "output_type": "stream",
          "name": "stdout",
          "text": [
            "+----------+\n",
            "|count(App)|\n",
            "+----------+\n",
            "|        58|\n",
            "+----------+\n",
            "\n"
          ]
        }
      ],
      "source": [
        "spark.sql(\"SELECT COUNT(App) FROM gstore WHERE Installs =1000000000 \").show()"
      ]
    },
    {
      "cell_type": "code",
      "execution_count": 20,
      "id": "63a71428",
      "metadata": {
        "colab": {
          "base_uri": "https://localhost:8080/"
        },
        "id": "63a71428",
        "outputId": "5036434f-e55c-48b4-c765-32defd96c21e"
      },
      "outputs": [
        {
          "output_type": "stream",
          "name": "stdout",
          "text": [
            "+-------------------+---------+\n",
            "|           Category|Total_app|\n",
            "+-------------------+---------+\n",
            "|             FAMILY|      191|\n",
            "|            MEDICAL|      109|\n",
            "|    PERSONALIZATION|       83|\n",
            "|               GAME|       83|\n",
            "|              TOOLS|       78|\n",
            "|       PRODUCTIVITY|       28|\n",
            "|BOOKS_AND_REFERENCE|       28|\n",
            "|      COMMUNICATION|       27|\n",
            "|             SPORTS|       24|\n",
            "|        PHOTOGRAPHY|       22|\n",
            "+-------------------+---------+\n",
            "only showing top 10 rows\n",
            "\n"
          ]
        }
      ],
      "source": [
        "# Highest paid categories with sqlspark\n",
        "spark.sql(\"SELECT Category,COUNT(App) as Total_app FROM gstore WHERE Price > 0  group by Category order by Total_app desc\").show(10)"
      ]
    },
    {
      "cell_type": "code",
      "source": [
        "import pandas as pd\n",
        "import seaborn as sns\n",
        "import matplotlib.pyplot as plt\n",
        "\n",
        "sns.set(style=\"darkgrid\")\n",
        "\n",
        "result = spark.sql(\"SELECT Category,COUNT(App) as Total_app FROM gstore WHERE Price > 0  group by Category order by Total_app desc limit 10\").toPandas()\n",
        "\n",
        "result.plot(kind = 'bar', x='Category', y='Total_app',title='Highest Paid Categories With Spark', fontsize=10, figsize = (12, 8));\n",
        "plt.xlabel('Category')\n",
        "plt.ylabel('Total App');"
      ],
      "metadata": {
        "colab": {
          "base_uri": "https://localhost:8080/",
          "height": 634
        },
        "id": "trvRDUF_G3SN",
        "outputId": "b09519d3-95cb-4a44-8f6c-78cafcdf9224"
      },
      "id": "trvRDUF_G3SN",
      "execution_count": 23,
      "outputs": [
        {
          "output_type": "display_data",
          "data": {
            "text/plain": [
              "<Figure size 864x576 with 1 Axes>"
            ],
            "image/png": "[encoded data removed]"
          },
          "metadata": {}
        }
      ]
    },
    {
      "cell_type": "code",
      "source": [],
      "metadata": {
        "id": "Ckh_M-k9HCj8"
      },
      "id": "Ckh_M-k9HCj8",
      "execution_count": null,
      "outputs": []
    }
  ],
  "metadata": {
    "kernelspec": {
      "display_name": "Python 3 (ipykernel)",
      "language": "python",
      "name": "python3"
    },
    "language_info": {
      "codemirror_mode": {
        "name": "ipython",
        "version": 3
      },
      "file_extension": ".py",
      "mimetype": "text/x-python",
      "name": "python",
      "nbconvert_exporter": "python",
      "pygments_lexer": "ipython3",
      "version": "3.9.12"
    },
    "colab": {
      "provenance": []
    }
  },
  "nbformat": 4,
  "nbformat_minor": 5
}